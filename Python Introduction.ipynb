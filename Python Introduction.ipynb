{
 "cells": [
  {
   "cell_type": "markdown",
   "metadata": {},
   "source": [
    "# Python Introduction\n",
    "Python is a programming language that lets you work quickly\n",
    "and integrate systems more effectively. \n",
    "\n",
    "The code can run in each cell.\n",
    "\n",
    "Show the output below the cell code.\n",
    "\n",
    "Support many languages such as Perl. R. Matlab. Ruby…\n",
    "\n",
    "Easy to share, presented as a 'notebook' in GitHub.\n",
    "\n",
    "Interactive Widgets\n",
    "\n",
    "\n",
    "https://www.runoob.com/python/python-tutorial.html\n",
    "\n",
    "https://www.python.org/"
   ]
  },
  {
   "cell_type": "code",
   "execution_count": 2,
   "metadata": {},
   "outputs": [
    {
     "name": "stdout",
     "output_type": "stream",
     "text": [
      "hello python!!\n"
     ]
    }
   ],
   "source": [
    "print('hello python!!')"
   ]
  },
  {
   "cell_type": "markdown",
   "metadata": {},
   "source": [
    "## 1 Variants\n",
    "### 標準數據類型\n",
    "**Python有五個標準的數據類型：**\n",
    "\n",
    "(1)Numbers（數字）: 1, 3 , 4.53, 19384\n",
    "\n",
    "(2)String（字串）:'hello', \"PYTHON\"\n",
    "\n",
    "(3)List（列表）:[ 'runoob', 786 , 2.23, 'john', 70.2 ]\n",
    "\n",
    "(4)Tuple（元組）:(123, 'john') **like List, but read only**\n",
    "\n",
    "(5)Dictionary（字典）:tinydict = {'name': 'john','code':6734, 'dept': 'sales'}\n"
   ]
  },
  {
   "cell_type": "code",
   "execution_count": 7,
   "metadata": {},
   "outputs": [
    {
     "name": "stdout",
     "output_type": "stream",
     "text": [
      "100\n",
      "1000.0\n",
      "John\n",
      "**************************************************\n",
      "1\n",
      "2\n",
      "john\n",
      "**************************************************\n",
      "print the first element in list: ['runoob', 786, 2.23, 'john', 70.2]\n"
     ]
    }
   ],
   "source": [
    "# define a Variant\n",
    "counter = 100 # 赋值整型变量\n",
    "miles = 1000.0 # 浮点型\n",
    "name = \"John\" # 字符串\n",
    "list = [ 'runoob', 786 , 2.23, 'john', 70.2 ]\n",
    "tuple = ( 'runoob', 786 , 2.23, 'john', 70.2 )\n",
    "tinydict = {'name': 'john','code':6734, 'dept': 'sales'}\n",
    " \n",
    "print(counter)\n",
    "print(miles)\n",
    "print(name)\n",
    "\n",
    "print('*'*50)\n",
    "\n",
    "#define three Variants in one code\n",
    "a, b, c = 1, 2, \"john\" \n",
    "print(a)\n",
    "print(b)\n",
    "print(c)\n",
    "\n",
    "print('*'*50)\n",
    "\n",
    "print('print the first element in list:',list)"
   ]
  },
  {
   "cell_type": "markdown",
   "metadata": {},
   "source": [
    "## 2 Operator\n",
    "**Python語言支持以下類型的運算符:**\n",
    "\n",
    "(1)算術運算符：+（加） 、 -（減）、 *（乘）、  / （除）、%（取模）、//（取整）\n",
    "\n",
    "(2)比較（關係）運算符：< ,> ,<=, >=, ==，！=\n",
    "\n",
    "(3)賦值運算符:=\n",
    "\n",
    "(4)邏輯運算符\n",
    "\n",
    "(5)位運算符\n",
    "\n",
    "(6)成員運算符\n",
    "\n",
    "(7)身份運算符\n"
   ]
  },
  {
   "cell_type": "code",
   "execution_count": 8,
   "metadata": {},
   "outputs": [
    {
     "name": "stdout",
     "output_type": "stream",
     "text": [
      "a + b的值为： 31\n",
      "a - b的值为： 11\n",
      "a * b的值为： 210\n",
      "a / b的值为： 2.1\n",
      "a % b 的值为： 1\n"
     ]
    }
   ],
   "source": [
    "a = 21\n",
    "b = 10\n",
    "c = 0\n",
    " \n",
    "c = a + b\n",
    "print (\"a + b的值为：\", c)\n",
    " \n",
    "c = a - b\n",
    "print (\"a - b的值为：\", c)\n",
    " \n",
    "c = a * b\n",
    "print (\"a * b的值为：\", c)\n",
    " \n",
    "c = a / b\n",
    "print (\"a / b的值为：\", c)\n",
    " \n",
    "c = a % b\n",
    "print (\"a % b 的值为：\", c)"
   ]
  },
  {
   "cell_type": "markdown",
   "metadata": {},
   "source": [
    "## 3 Practice\n",
    "（1） 定義3個變數：a1,a2,a3 值為2.5，-3,76\n",
    "\n",
    "（2） 計算這三個數的和，並列印出來\n",
    "\n",
    "（3） 計算a3除以a1的商與a2的和，並列印出來"
   ]
  },
  {
   "cell_type": "code",
   "execution_count": null,
   "metadata": {},
   "outputs": [],
   "source": []
  },
  {
   "cell_type": "markdown",
   "metadata": {},
   "source": [
    "## 4 Conditional Judgment （if else）"
   ]
  },
  {
   "cell_type": "code",
   "execution_count": null,
   "metadata": {},
   "outputs": [],
   "source": [
    "a=1\n",
    "if a==1:\n",
    "    print('a=1')\n",
    "if a==2:\n",
    "    print('a=2')"
   ]
  },
  {
   "cell_type": "code",
   "execution_count": null,
   "metadata": {},
   "outputs": [],
   "source": [
    "a=10\n",
    "if a==1:\n",
    "    print('a=1')\n",
    "else:\n",
    "    print('a!=2')"
   ]
  },
  {
   "cell_type": "markdown",
   "metadata": {},
   "source": [
    "## 5 Practice\n",
    "判断a3除以a1的商与a2的哪一个大，并打印出来大的那个值"
   ]
  },
  {
   "cell_type": "code",
   "execution_count": null,
   "metadata": {},
   "outputs": [],
   "source": []
  },
  {
   "cell_type": "markdown",
   "metadata": {},
   "source": [
    "## 6 Loop"
   ]
  },
  {
   "cell_type": "code",
   "execution_count": null,
   "metadata": {},
   "outputs": [],
   "source": [
    "count = 0\n",
    "while count < 5:\n",
    "    print('count值为：',count)\n",
    "    print (count, \" 小于 5\")\n",
    "    count = count + 1\n",
    "else:\n",
    "    print (count, \" 大于或等于 5\")"
   ]
  },
  {
   "cell_type": "code",
   "execution_count": null,
   "metadata": {},
   "outputs": [],
   "source": [
    "for i in range(5):\n",
    "    print(i)"
   ]
  },
  {
   "cell_type": "markdown",
   "metadata": {},
   "source": [
    "## 6 Practice\n",
    "運用迴圈，計算0到10的所有數的和\n",
    "\n",
    "（1） 定義一個變數用於接收和：sum\n",
    "\n",
    "（2） 寫一個for迴圈來進行累加"
   ]
  },
  {
   "cell_type": "code",
   "execution_count": null,
   "metadata": {},
   "outputs": [],
   "source": []
  },
  {
   "cell_type": "code",
   "execution_count": null,
   "metadata": {},
   "outputs": [],
   "source": []
  },
  {
   "cell_type": "code",
   "execution_count": null,
   "metadata": {},
   "outputs": [],
   "source": []
  }
 ],
 "metadata": {
  "kernelspec": {
   "display_name": "Python 3",
   "language": "python",
   "name": "python3"
  },
  "language_info": {
   "codemirror_mode": {
    "name": "ipython",
    "version": 3
   },
   "file_extension": ".py",
   "mimetype": "text/x-python",
   "name": "python",
   "nbconvert_exporter": "python",
   "pygments_lexer": "ipython3",
   "version": "3.6.6"
  }
 },
 "nbformat": 4,
 "nbformat_minor": 2
}
