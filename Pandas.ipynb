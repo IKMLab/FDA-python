{
 "cells": [
  {
   "cell_type": "markdown",
   "metadata": {},
   "source": [
    "## Pandas\n",
    "pandas 是基於NumPy 的一種工具，該工具是為了解決數據分析任務而創建的。Pandas 納入了大量庫和一些標準的數據模型，提供了高效地操作大型數據集所需的工具。pandas提供了大量能使我們快速便捷地處理數據的函數和方法。你很快就會發現，它是使Python成為強大而高效的數據分析環境的重要因素之一。\n"
   ]
  },
  {
   "cell_type": "code",
   "execution_count": 1,
   "metadata": {},
   "outputs": [],
   "source": [
    "import pandas as pd\n",
    "#import pandas"
   ]
  },
  {
   "cell_type": "markdown",
   "metadata": {},
   "source": [
    "## 數據導入：\n",
    "pd.read_csv(filename)：從CSV檔導入數據\n",
    "\n",
    "pd.read_table(filename)：從限定分隔符號的文本檔導入數據\n",
    "\n",
    "pd.read_excel(filename)：從Excel檔導入數據\n",
    "\n",
    "pd.read_sql(query, connection_object)：從SQL表/庫導入數據\n",
    "\n",
    "pd.read_json(json_string)：從JSON格式的字串導入數據\n",
    "\n",
    "pd.read_html(url)：解析URL、字串或者HTML檔\n",
    "\n",
    "pd.read_clipboard()：從粘貼板獲取內容\n",
    "\n",
    "pd.DataFrame(dict)：從字典對象導入數據"
   ]
  },
  {
   "cell_type": "code",
   "execution_count": 3,
   "metadata": {},
   "outputs": [],
   "source": [
    "dataset=pd.read_csv(\"val_all.csv\")"
   ]
  },
  {
   "cell_type": "code",
   "execution_count": 4,
   "metadata": {},
   "outputs": [
    {
     "data": {
      "text/html": [
       "<div>\n",
       "<style scoped>\n",
       "    .dataframe tbody tr th:only-of-type {\n",
       "        vertical-align: middle;\n",
       "    }\n",
       "\n",
       "    .dataframe tbody tr th {\n",
       "        vertical-align: top;\n",
       "    }\n",
       "\n",
       "    .dataframe thead th {\n",
       "        text-align: right;\n",
       "    }\n",
       "</style>\n",
       "<table border=\"1\" class=\"dataframe\">\n",
       "  <thead>\n",
       "    <tr style=\"text-align: right;\">\n",
       "      <th></th>\n",
       "      <th>even_id</th>\n",
       "      <th>text</th>\n",
       "      <th>rumour</th>\n",
       "    </tr>\n",
       "  </thead>\n",
       "  <tbody>\n",
       "    <tr>\n",
       "      <th>0</th>\n",
       "      <td>552838287929663489</td>\n",
       "      <td>aren t you surprised the wh ha t called this a...</td>\n",
       "      <td>0</td>\n",
       "    </tr>\n",
       "    <tr>\n",
       "      <th>1</th>\n",
       "      <td>553544336475168769</td>\n",
       "      <td>fuckyouterroristcowards | you got the be tweet...</td>\n",
       "      <td>0</td>\n",
       "    </tr>\n",
       "    <tr>\n",
       "      <th>2</th>\n",
       "      <td>500398901028196354</td>\n",
       "      <td>my column arrest darren wilson arrest him now ...</td>\n",
       "      <td>0</td>\n",
       "    </tr>\n",
       "    <tr>\n",
       "      <th>3</th>\n",
       "      <td>544287425380360193</td>\n",
       "      <td>don t bother go they ve taken the geo block of...</td>\n",
       "      <td>1</td>\n",
       "    </tr>\n",
       "    <tr>\n",
       "      <th>4</th>\n",
       "      <td>499674825753772033</td>\n",
       "      <td>ferguson fergusonriot jailsupport helps tho ar...</td>\n",
       "      <td>0</td>\n",
       "    </tr>\n",
       "  </tbody>\n",
       "</table>\n",
       "</div>"
      ],
      "text/plain": [
       "              even_id                                               text  \\\n",
       "0  552838287929663489  aren t you surprised the wh ha t called this a...   \n",
       "1  553544336475168769  fuckyouterroristcowards | you got the be tweet...   \n",
       "2  500398901028196354  my column arrest darren wilson arrest him now ...   \n",
       "3  544287425380360193  don t bother go they ve taken the geo block of...   \n",
       "4  499674825753772033  ferguson fergusonriot jailsupport helps tho ar...   \n",
       "\n",
       "   rumour  \n",
       "0       0  \n",
       "1       0  \n",
       "2       0  \n",
       "3       1  \n",
       "4       0  "
      ]
     },
     "execution_count": 4,
     "metadata": {},
     "output_type": "execute_result"
    }
   ],
   "source": [
    "dataset.head()"
   ]
  },
  {
   "cell_type": "code",
   "execution_count": 5,
   "metadata": {},
   "outputs": [
    {
     "data": {
      "text/html": [
       "<div>\n",
       "<style scoped>\n",
       "    .dataframe tbody tr th:only-of-type {\n",
       "        vertical-align: middle;\n",
       "    }\n",
       "\n",
       "    .dataframe tbody tr th {\n",
       "        vertical-align: top;\n",
       "    }\n",
       "\n",
       "    .dataframe thead th {\n",
       "        text-align: right;\n",
       "    }\n",
       "</style>\n",
       "<table border=\"1\" class=\"dataframe\">\n",
       "  <thead>\n",
       "    <tr style=\"text-align: right;\">\n",
       "      <th></th>\n",
       "      <th>even_id</th>\n",
       "      <th>text</th>\n",
       "      <th>rumour</th>\n",
       "    </tr>\n",
       "  </thead>\n",
       "  <tbody>\n",
       "    <tr>\n",
       "      <th>418</th>\n",
       "      <td>552851772658561028</td>\n",
       "      <td>lol and you are surprised comma why questionma...</td>\n",
       "      <td>0</td>\n",
       "    </tr>\n",
       "    <tr>\n",
       "      <th>419</th>\n",
       "      <td>525026947307700225</td>\n",
       "      <td>canadagentleman re in peace cpl nathan cirillo...</td>\n",
       "      <td>1</td>\n",
       "    </tr>\n",
       "    <tr>\n",
       "      <th>420</th>\n",
       "      <td>544307871853592576</td>\n",
       "      <td>you don t want to be the one who believed the ...</td>\n",
       "      <td>0</td>\n",
       "    </tr>\n",
       "    <tr>\n",
       "      <th>421</th>\n",
       "      <td>553544694765215745</td>\n",
       "      <td>仏モンルージュで木曜日に女性警官を射殺した男について捜査当局は容疑者の写真を配信 現在パリ東...</td>\n",
       "      <td>1</td>\n",
       "    </tr>\n",
       "    <tr>\n",
       "      <th>422</th>\n",
       "      <td>499689919929798657</td>\n",
       "      <td>police started arresting ppl comma ordering ev...</td>\n",
       "      <td>0</td>\n",
       "    </tr>\n",
       "  </tbody>\n",
       "</table>\n",
       "</div>"
      ],
      "text/plain": [
       "                even_id                                               text  \\\n",
       "418  552851772658561028  lol and you are surprised comma why questionma...   \n",
       "419  525026947307700225  canadagentleman re in peace cpl nathan cirillo...   \n",
       "420  544307871853592576  you don t want to be the one who believed the ...   \n",
       "421  553544694765215745  仏モンルージュで木曜日に女性警官を射殺した男について捜査当局は容疑者の写真を配信 現在パリ東...   \n",
       "422  499689919929798657  police started arresting ppl comma ordering ev...   \n",
       "\n",
       "     rumour  \n",
       "418       0  \n",
       "419       1  \n",
       "420       0  \n",
       "421       1  \n",
       "422       0  "
      ]
     },
     "execution_count": 5,
     "metadata": {},
     "output_type": "execute_result"
    }
   ],
   "source": [
    "dataset.tail()"
   ]
  },
  {
   "cell_type": "markdown",
   "metadata": {},
   "source": [
    "## 數據導出：\n",
    "df.to_csv(filename)：導出數據到CSV檔\n",
    "\n",
    "df.to_excel(filename)：導出數據到Excel檔\n",
    "\n",
    "df.to_sql(table_name, connection_object)：導出數據到SQL表\n",
    "\n",
    "df.to_json(filename)：以Json格式導出數據到文本檔"
   ]
  },
  {
   "cell_type": "code",
   "execution_count": 8,
   "metadata": {},
   "outputs": [],
   "source": [
    "dataset.to_csv('pandas_result.csv')"
   ]
  },
  {
   "cell_type": "markdown",
   "metadata": {},
   "source": [
    "## 數據查看：\n",
    "df.head(n)：查看DataFrame對象的前n行\n",
    "\n",
    "df.tail(n)：查看DataFrame對象的最後n行\n",
    "\n",
    "df.shape()：查看行數和列數\n",
    "\n",
    "df.info()：查看索引、數據類型和記憶體資訊\n",
    "\n",
    "df.describe()：查看數值型列的匯總統計\n",
    "\n",
    "s.value_counts(dropna=False)：查看Series對象的唯一值和計數\n",
    "\n",
    "df.apply(pd.Series.value_counts)：查看DataFrame對象中每一列的唯一值和計數"
   ]
  },
  {
   "cell_type": "code",
   "execution_count": 10,
   "metadata": {},
   "outputs": [
    {
     "name": "stdout",
     "output_type": "stream",
     "text": [
      "<class 'pandas.core.frame.DataFrame'>\n",
      "RangeIndex: 423 entries, 0 to 422\n",
      "Data columns (total 3 columns):\n",
      "even_id    423 non-null int64\n",
      "text       423 non-null object\n",
      "rumour     423 non-null int64\n",
      "dtypes: int64(2), object(1)\n",
      "memory usage: 10.0+ KB\n"
     ]
    }
   ],
   "source": [
    "dataset.info()"
   ]
  },
  {
   "cell_type": "code",
   "execution_count": 12,
   "metadata": {},
   "outputs": [
    {
     "data": {
      "text/html": [
       "<div>\n",
       "<style scoped>\n",
       "    .dataframe tbody tr th:only-of-type {\n",
       "        vertical-align: middle;\n",
       "    }\n",
       "\n",
       "    .dataframe tbody tr th {\n",
       "        vertical-align: top;\n",
       "    }\n",
       "\n",
       "    .dataframe thead th {\n",
       "        text-align: right;\n",
       "    }\n",
       "</style>\n",
       "<table border=\"1\" class=\"dataframe\">\n",
       "  <thead>\n",
       "    <tr style=\"text-align: right;\">\n",
       "      <th></th>\n",
       "      <th>count</th>\n",
       "      <th>mean</th>\n",
       "      <th>std</th>\n",
       "      <th>min</th>\n",
       "      <th>25%</th>\n",
       "      <th>50%</th>\n",
       "      <th>75%</th>\n",
       "      <th>max</th>\n",
       "    </tr>\n",
       "  </thead>\n",
       "  <tbody>\n",
       "    <tr>\n",
       "      <th>even_id</th>\n",
       "      <td>423.0</td>\n",
       "      <td>5.392400e+17</td>\n",
       "      <td>2.379065e+16</td>\n",
       "      <td>4.982693e+17</td>\n",
       "      <td>5.249601e+17</td>\n",
       "      <td>5.444521e+17</td>\n",
       "      <td>5.531789e+17</td>\n",
       "      <td>5.814790e+17</td>\n",
       "    </tr>\n",
       "    <tr>\n",
       "      <th>rumour</th>\n",
       "      <td>423.0</td>\n",
       "      <td>3.522459e-01</td>\n",
       "      <td>4.782357e-01</td>\n",
       "      <td>0.000000e+00</td>\n",
       "      <td>0.000000e+00</td>\n",
       "      <td>0.000000e+00</td>\n",
       "      <td>1.000000e+00</td>\n",
       "      <td>1.000000e+00</td>\n",
       "    </tr>\n",
       "  </tbody>\n",
       "</table>\n",
       "</div>"
      ],
      "text/plain": [
       "         count          mean           std           min           25%  \\\n",
       "even_id  423.0  5.392400e+17  2.379065e+16  4.982693e+17  5.249601e+17   \n",
       "rumour   423.0  3.522459e-01  4.782357e-01  0.000000e+00  0.000000e+00   \n",
       "\n",
       "                  50%           75%           max  \n",
       "even_id  5.444521e+17  5.531789e+17  5.814790e+17  \n",
       "rumour   0.000000e+00  1.000000e+00  1.000000e+00  "
      ]
     },
     "execution_count": 12,
     "metadata": {},
     "output_type": "execute_result"
    }
   ],
   "source": [
    "dataset.describe().T"
   ]
  },
  {
   "cell_type": "markdown",
   "metadata": {},
   "source": [
    "\n",
    "## 數據選取：\n",
    "\n",
    "df[col]：根據列名，並以Series的形式返回列－－－－－＞　例：df[‘列名’]\n",
    "\n",
    "df[[col1, col2]]：以DataFrame形式返回多列\n",
    "\n",
    "s.iloc[0]：按位置選取數據\n",
    "\n",
    "s.loc[‘index_one’]：按索引選取數據\n",
    "\n",
    "df.iloc[0,:]：返回第一行\n",
    "\n",
    "## 數據清洗：\n",
    "df.columns = [‘a’,‘b’,‘c’]：重命名列名\n",
    "\n",
    "pd.isnull()：檢查DataFrame對象中的空值，並返回一個Boolean數組\n",
    "\n",
    "pd.notnull()：檢查DataFrame對象中的非空值，並返回一個Boolean數組\n",
    "\n",
    "df.dropna()：刪除所有包含空值的行\n",
    "\n",
    "df.fillna(x)：用x替換DataFrame對象中所有的空值\n",
    "\n",
    "s.astype(float)：將Series中的數據類型更改為float類型\n",
    "\n",
    "s.replace(1,‘one’)：用‘one’代替所有等於1的值\n",
    "\n",
    "df.rename(columns=lambda x: x + 1)：批量更改列名\n",
    "\n",
    "df.set_index(‘column_one’)：更改索引列\n",
    "\n",
    "## 數據處理：Filter, Sort, GroupBy\n",
    "df[df[col] > 0.5]：選擇col列的值大於0.5的行\n",
    "\n",
    "df.sort_values(col1)：按照列col1排序數據，默認昇冪排列\n",
    "\n",
    "df.groupby(col)：返回一個按列col進行分組的Groupby對象\n",
    "\n",
    "df.groupby(col1).agg(np.mean)：返回按列col1分組的所有列的均值\n",
    "\n",
    "df.pivot_table(index=col1, values=[col2,col3], aggfunc=max)：創建一個按列col1進行分組，並計算col2和col3的最大值的數據透視表\n",
    "\n",
    "data.apply(np.mean)：對DataFrame中的每一列應用函數np.mean\n",
    "\n",
    "## 數據合併：\n",
    "df1.append(df2)：將df2中的行添加到df1的尾部\n",
    "\n",
    "df.concat([df1, df2],axis=1)：將df2中的列添加到df1的尾部\n",
    "\n",
    "df1.join(df2,on=col1,how=‘inner’)：對df1的列和df2的列執行SQL形式的join\n",
    "\n",
    "## 數據統計：\n",
    "df.describe()：查看數據值列的匯總統計\n",
    "\n",
    "df.mean()：返回所有列的均值\n",
    "\n",
    "df.corr()：返回列與列之間的相關係數\n",
    "\n",
    "df.count()：返回每一列中的非空值的個數\n",
    "\n",
    "df.max()：返回每一列的最大值\n",
    "\n",
    "df.min()：返回每一列的最小值\n",
    "\n",
    "df.median()：返回每一列的中位數\n",
    "\n",
    "df.std()：返回每一列的標準差\n",
    "\n",
    "## 常用函數：\n",
    "\n",
    "df.astypes: 數據格式轉換\n",
    "\n",
    "df.value_counts:相同數值的個數統計\n",
    "\n",
    "df.hist(): 畫直方圖\n",
    "\n",
    "df.get_dummies: one-hot編碼，將類型格式的屬性轉換成矩陣型的屬性。比如：三種顏色RGB，紅色編碼為[1 0 0]\n"
   ]
  },
  {
   "cell_type": "code",
   "execution_count": 15,
   "metadata": {},
   "outputs": [
    {
     "data": {
      "text/plain": [
       "<matplotlib.axes._subplots.AxesSubplot at 0x2d4ba809eb8>"
      ]
     },
     "execution_count": 15,
     "metadata": {},
     "output_type": "execute_result"
    },
    {
     "data": {
      "image/png": "[encoded data removed]",
      "text/plain": [
       "<Figure size 432x288 with 1 Axes>"
      ]
     },
     "metadata": {
      "needs_background": "light"
     },
     "output_type": "display_data"
    }
   ],
   "source": [
    "dataset.rumour.hist()"
   ]
  },
  {
   "cell_type": "code",
   "execution_count": null,
   "metadata": {},
   "outputs": [],
   "source": []
  }
 ],
 "metadata": {
  "kernelspec": {
   "display_name": "Python 3",
   "language": "python",
   "name": "python3"
  },
  "language_info": {
   "codemirror_mode": {
    "name": "ipython",
    "version": 3
   },
   "file_extension": ".py",
   "mimetype": "text/x-python",
   "name": "python",
   "nbconvert_exporter": "python",
   "pygments_lexer": "ipython3",
   "version": "3.6.6"
  }
 },
 "nbformat": 4,
 "nbformat_minor": 2
}
